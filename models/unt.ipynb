{
 "cells": [
  {
   "cell_type": "code",
   "execution_count": 1,
   "id": "30301734",
   "metadata": {},
   "outputs": [],
   "source": [
    "from imagetransformer import ImageTransformer"
   ]
  },
  {
   "cell_type": "code",
   "execution_count": 2,
   "id": "044c0312",
   "metadata": {
    "scrolled": true
   },
   "outputs": [
    {
     "name": "stdout",
     "output_type": "stream",
     "text": [
      "Resized positional embeddings from torch.Size([1, 577, 768]) to torch.Size([1, 325, 768])\n",
      "Missing keys when loading pretrained weights: ['xception_feature_extractor.conv1.weight', 'xception_feature_extractor.bn1.weight', 'xception_feature_extractor.bn1.bias', 'xception_feature_extractor.bn1.running_mean', 'xception_feature_extractor.bn1.running_var', 'xception_feature_extractor.conv2.weight', 'xception_feature_extractor.bn2.weight', 'xception_feature_extractor.bn2.bias', 'xception_feature_extractor.bn2.running_mean', 'xception_feature_extractor.bn2.running_var', 'xception_feature_extractor.block1.skip.weight', 'xception_feature_extractor.block1.skipbn.weight', 'xception_feature_extractor.block1.skipbn.bias', 'xception_feature_extractor.block1.skipbn.running_mean', 'xception_feature_extractor.block1.skipbn.running_var', 'xception_feature_extractor.block1.rep.0.conv1.weight', 'xception_feature_extractor.block1.rep.0.pointwise.weight', 'xception_feature_extractor.block1.rep.1.weight', 'xception_feature_extractor.block1.rep.1.bias', 'xception_feature_extractor.block1.rep.1.running_mean', 'xception_feature_extractor.block1.rep.1.running_var', 'xception_feature_extractor.block1.rep.3.conv1.weight', 'xception_feature_extractor.block1.rep.3.pointwise.weight', 'xception_feature_extractor.block1.rep.4.weight', 'xception_feature_extractor.block1.rep.4.bias', 'xception_feature_extractor.block1.rep.4.running_mean', 'xception_feature_extractor.block1.rep.4.running_var', 'xception_feature_extractor.block2.skip.weight', 'xception_feature_extractor.block2.skipbn.weight', 'xception_feature_extractor.block2.skipbn.bias', 'xception_feature_extractor.block2.skipbn.running_mean', 'xception_feature_extractor.block2.skipbn.running_var', 'xception_feature_extractor.block2.rep.1.conv1.weight', 'xception_feature_extractor.block2.rep.1.pointwise.weight', 'xception_feature_extractor.block2.rep.2.weight', 'xception_feature_extractor.block2.rep.2.bias', 'xception_feature_extractor.block2.rep.2.running_mean', 'xception_feature_extractor.block2.rep.2.running_var', 'xception_feature_extractor.block2.rep.4.conv1.weight', 'xception_feature_extractor.block2.rep.4.pointwise.weight', 'xception_feature_extractor.block2.rep.5.weight', 'xception_feature_extractor.block2.rep.5.bias', 'xception_feature_extractor.block2.rep.5.running_mean', 'xception_feature_extractor.block2.rep.5.running_var', 'xception_feature_extractor.block3.skip.weight', 'xception_feature_extractor.block3.skipbn.weight', 'xception_feature_extractor.block3.skipbn.bias', 'xception_feature_extractor.block3.skipbn.running_mean', 'xception_feature_extractor.block3.skipbn.running_var', 'xception_feature_extractor.block3.rep.1.conv1.weight', 'xception_feature_extractor.block3.rep.1.pointwise.weight', 'xception_feature_extractor.block3.rep.2.weight', 'xception_feature_extractor.block3.rep.2.bias', 'xception_feature_extractor.block3.rep.2.running_mean', 'xception_feature_extractor.block3.rep.2.running_var', 'xception_feature_extractor.block3.rep.4.conv1.weight', 'xception_feature_extractor.block3.rep.4.pointwise.weight', 'xception_feature_extractor.block3.rep.5.weight', 'xception_feature_extractor.block3.rep.5.bias', 'xception_feature_extractor.block3.rep.5.running_mean', 'xception_feature_extractor.block3.rep.5.running_var', 'xception_feature_extractor.block4.rep.1.conv1.weight', 'xception_feature_extractor.block4.rep.1.pointwise.weight', 'xception_feature_extractor.block4.rep.2.weight', 'xception_feature_extractor.block4.rep.2.bias', 'xception_feature_extractor.block4.rep.2.running_mean', 'xception_feature_extractor.block4.rep.2.running_var', 'xception_feature_extractor.block4.rep.4.conv1.weight', 'xception_feature_extractor.block4.rep.4.pointwise.weight', 'xception_feature_extractor.block4.rep.5.weight', 'xception_feature_extractor.block4.rep.5.bias', 'xception_feature_extractor.block4.rep.5.running_mean', 'xception_feature_extractor.block4.rep.5.running_var', 'xception_feature_extractor.block4.rep.7.conv1.weight', 'xception_feature_extractor.block4.rep.7.pointwise.weight', 'xception_feature_extractor.block4.rep.8.weight', 'xception_feature_extractor.block4.rep.8.bias', 'xception_feature_extractor.block4.rep.8.running_mean', 'xception_feature_extractor.block4.rep.8.running_var', 'xception_feature_extractor.block5.rep.1.conv1.weight', 'xception_feature_extractor.block5.rep.1.pointwise.weight', 'xception_feature_extractor.block5.rep.2.weight', 'xception_feature_extractor.block5.rep.2.bias', 'xception_feature_extractor.block5.rep.2.running_mean', 'xception_feature_extractor.block5.rep.2.running_var', 'xception_feature_extractor.block5.rep.4.conv1.weight', 'xception_feature_extractor.block5.rep.4.pointwise.weight', 'xception_feature_extractor.block5.rep.5.weight', 'xception_feature_extractor.block5.rep.5.bias', 'xception_feature_extractor.block5.rep.5.running_mean', 'xception_feature_extractor.block5.rep.5.running_var', 'xception_feature_extractor.block5.rep.7.conv1.weight', 'xception_feature_extractor.block5.rep.7.pointwise.weight', 'xception_feature_extractor.block5.rep.8.weight', 'xception_feature_extractor.block5.rep.8.bias', 'xception_feature_extractor.block5.rep.8.running_mean', 'xception_feature_extractor.block5.rep.8.running_var', 'xception_feature_extractor.block6.rep.1.conv1.weight', 'xception_feature_extractor.block6.rep.1.pointwise.weight', 'xception_feature_extractor.block6.rep.2.weight', 'xception_feature_extractor.block6.rep.2.bias', 'xception_feature_extractor.block6.rep.2.running_mean', 'xception_feature_extractor.block6.rep.2.running_var', 'xception_feature_extractor.block6.rep.4.conv1.weight', 'xception_feature_extractor.block6.rep.4.pointwise.weight', 'xception_feature_extractor.block6.rep.5.weight', 'xception_feature_extractor.block6.rep.5.bias', 'xception_feature_extractor.block6.rep.5.running_mean', 'xception_feature_extractor.block6.rep.5.running_var', 'xception_feature_extractor.block6.rep.7.conv1.weight', 'xception_feature_extractor.block6.rep.7.pointwise.weight', 'xception_feature_extractor.block6.rep.8.weight', 'xception_feature_extractor.block6.rep.8.bias', 'xception_feature_extractor.block6.rep.8.running_mean', 'xception_feature_extractor.block6.rep.8.running_var', 'xception_feature_extractor.block7.rep.1.conv1.weight', 'xception_feature_extractor.block7.rep.1.pointwise.weight', 'xception_feature_extractor.block7.rep.2.weight', 'xception_feature_extractor.block7.rep.2.bias', 'xception_feature_extractor.block7.rep.2.running_mean', 'xception_feature_extractor.block7.rep.2.running_var', 'xception_feature_extractor.block7.rep.4.conv1.weight', 'xception_feature_extractor.block7.rep.4.pointwise.weight', 'xception_feature_extractor.block7.rep.5.weight', 'xception_feature_extractor.block7.rep.5.bias', 'xception_feature_extractor.block7.rep.5.running_mean', 'xception_feature_extractor.block7.rep.5.running_var', 'xception_feature_extractor.block7.rep.7.conv1.weight', 'xception_feature_extractor.block7.rep.7.pointwise.weight', 'xception_feature_extractor.block7.rep.8.weight', 'xception_feature_extractor.block7.rep.8.bias', 'xception_feature_extractor.block7.rep.8.running_mean', 'xception_feature_extractor.block7.rep.8.running_var', 'xception_feature_extractor.block8.rep.1.conv1.weight', 'xception_feature_extractor.block8.rep.1.pointwise.weight', 'xception_feature_extractor.block8.rep.2.weight', 'xception_feature_extractor.block8.rep.2.bias', 'xception_feature_extractor.block8.rep.2.running_mean', 'xception_feature_extractor.block8.rep.2.running_var', 'xception_feature_extractor.block8.rep.4.conv1.weight', 'xception_feature_extractor.block8.rep.4.pointwise.weight', 'xception_feature_extractor.block8.rep.5.weight', 'xception_feature_extractor.block8.rep.5.bias', 'xception_feature_extractor.block8.rep.5.running_mean', 'xception_feature_extractor.block8.rep.5.running_var', 'xception_feature_extractor.block8.rep.7.conv1.weight', 'xception_feature_extractor.block8.rep.7.pointwise.weight', 'xception_feature_extractor.block8.rep.8.weight', 'xception_feature_extractor.block8.rep.8.bias', 'xception_feature_extractor.block8.rep.8.running_mean', 'xception_feature_extractor.block8.rep.8.running_var', 'xception_feature_extractor.block9.rep.1.conv1.weight', 'xception_feature_extractor.block9.rep.1.pointwise.weight', 'xception_feature_extractor.block9.rep.2.weight', 'xception_feature_extractor.block9.rep.2.bias', 'xception_feature_extractor.block9.rep.2.running_mean', 'xception_feature_extractor.block9.rep.2.running_var', 'xception_feature_extractor.block9.rep.4.conv1.weight', 'xception_feature_extractor.block9.rep.4.pointwise.weight', 'xception_feature_extractor.block9.rep.5.weight', 'xception_feature_extractor.block9.rep.5.bias', 'xception_feature_extractor.block9.rep.5.running_mean', 'xception_feature_extractor.block9.rep.5.running_var', 'xception_feature_extractor.block9.rep.7.conv1.weight', 'xception_feature_extractor.block9.rep.7.pointwise.weight', 'xception_feature_extractor.block9.rep.8.weight', 'xception_feature_extractor.block9.rep.8.bias', 'xception_feature_extractor.block9.rep.8.running_mean', 'xception_feature_extractor.block9.rep.8.running_var', 'xception_feature_extractor.block10.rep.1.conv1.weight', 'xception_feature_extractor.block10.rep.1.pointwise.weight', 'xception_feature_extractor.block10.rep.2.weight', 'xception_feature_extractor.block10.rep.2.bias', 'xception_feature_extractor.block10.rep.2.running_mean', 'xception_feature_extractor.block10.rep.2.running_var', 'xception_feature_extractor.block10.rep.4.conv1.weight', 'xception_feature_extractor.block10.rep.4.pointwise.weight', 'xception_feature_extractor.block10.rep.5.weight', 'xception_feature_extractor.block10.rep.5.bias', 'xception_feature_extractor.block10.rep.5.running_mean', 'xception_feature_extractor.block10.rep.5.running_var', 'xception_feature_extractor.block10.rep.7.conv1.weight', 'xception_feature_extractor.block10.rep.7.pointwise.weight', 'xception_feature_extractor.block10.rep.8.weight', 'xception_feature_extractor.block10.rep.8.bias', 'xception_feature_extractor.block10.rep.8.running_mean', 'xception_feature_extractor.block10.rep.8.running_var', 'xception_feature_extractor.block11.rep.1.conv1.weight', 'xception_feature_extractor.block11.rep.1.pointwise.weight', 'xception_feature_extractor.block11.rep.2.weight', 'xception_feature_extractor.block11.rep.2.bias', 'xception_feature_extractor.block11.rep.2.running_mean', 'xception_feature_extractor.block11.rep.2.running_var', 'xception_feature_extractor.block11.rep.4.conv1.weight', 'xception_feature_extractor.block11.rep.4.pointwise.weight', 'xception_feature_extractor.block11.rep.5.weight', 'xception_feature_extractor.block11.rep.5.bias', 'xception_feature_extractor.block11.rep.5.running_mean', 'xception_feature_extractor.block11.rep.5.running_var', 'xception_feature_extractor.block11.rep.7.conv1.weight', 'xception_feature_extractor.block11.rep.7.pointwise.weight', 'xception_feature_extractor.block11.rep.8.weight', 'xception_feature_extractor.block11.rep.8.bias', 'xception_feature_extractor.block11.rep.8.running_mean', 'xception_feature_extractor.block11.rep.8.running_var', 'xception_feature_extractor.block12.skip.weight', 'xception_feature_extractor.block12.skipbn.weight', 'xception_feature_extractor.block12.skipbn.bias', 'xception_feature_extractor.block12.skipbn.running_mean', 'xception_feature_extractor.block12.skipbn.running_var', 'xception_feature_extractor.block12.rep.1.conv1.weight', 'xception_feature_extractor.block12.rep.1.pointwise.weight', 'xception_feature_extractor.block12.rep.2.weight', 'xception_feature_extractor.block12.rep.2.bias', 'xception_feature_extractor.block12.rep.2.running_mean', 'xception_feature_extractor.block12.rep.2.running_var', 'xception_feature_extractor.block12.rep.4.conv1.weight', 'xception_feature_extractor.block12.rep.4.pointwise.weight', 'xception_feature_extractor.block12.rep.5.weight', 'xception_feature_extractor.block12.rep.5.bias', 'xception_feature_extractor.block12.rep.5.running_mean', 'xception_feature_extractor.block12.rep.5.running_var', 'xception_feature_extractor.conv3.conv1.weight', 'xception_feature_extractor.conv3.pointwise.weight', 'xception_feature_extractor.bn3.weight', 'xception_feature_extractor.bn3.bias', 'xception_feature_extractor.bn3.running_mean', 'xception_feature_extractor.bn3.running_var', 'xception_feature_extractor.conv4.conv1.weight', 'xception_feature_extractor.conv4.pointwise.weight', 'xception_feature_extractor.bn4.weight', 'xception_feature_extractor.bn4.bias', 'xception_feature_extractor.bn4.running_mean', 'xception_feature_extractor.bn4.running_var', 'sequence_embedding.seq_embedding', 'linear_1.weight', 'linear_1.bias', 'proj.weight', 'proj.bias', 'fc.weight', 'fc.bias']\n",
      "Unexpected keys when loading pretrained weights: []\n"
     ]
    }
   ],
   "source": [
    "model = ImageTransformer('B_16_imagenet1k', pretrained=True, image_size = 300, num_classes = 2,\n",
    "                        seq_embed=True, hybrid=True)"
   ]
  },
  {
   "cell_type": "code",
   "execution_count": 5,
   "id": "22ce1804",
   "metadata": {},
   "outputs": [
    {
     "ename": "ImportError",
     "evalue": "attempted relative import with no known parent package",
     "output_type": "error",
     "traceback": [
      "\u001b[1;31m---------------------------------------------------------------------------\u001b[0m",
      "\u001b[1;31mImportError\u001b[0m                               Traceback (most recent call last)",
      "\u001b[1;32m~\\AppData\\Local\\Temp/ipykernel_19852/691340916.py\u001b[0m in \u001b[0;36m<module>\u001b[1;34m\u001b[0m\n\u001b[1;32m----> 1\u001b[1;33m \u001b[1;32mfrom\u001b[0m \u001b[0mDDFA\u001b[0m \u001b[1;32mimport\u001b[0m \u001b[1;33m*\u001b[0m\u001b[1;33m\u001b[0m\u001b[1;33m\u001b[0m\u001b[0m\n\u001b[0m",
      "\u001b[1;32m~\\Desktop\\Research\\PhD\\Year1\\NewDeepfakeDetector\\Code\\LukeMelas\\ACMMM\\models\\DDFA.py\u001b[0m in \u001b[0;36m<module>\u001b[1;34m\u001b[0m\n\u001b[0;32m      2\u001b[0m \u001b[1;32mimport\u001b[0m \u001b[0mscipy\u001b[0m\u001b[1;33m.\u001b[0m\u001b[0mio\u001b[0m \u001b[1;32mas\u001b[0m \u001b[0msio\u001b[0m\u001b[1;33m\u001b[0m\u001b[1;33m\u001b[0m\u001b[0m\n\u001b[0;32m      3\u001b[0m \u001b[1;33m\u001b[0m\u001b[0m\n\u001b[1;32m----> 4\u001b[1;33m \u001b[1;32mfrom\u001b[0m \u001b[1;33m.\u001b[0m\u001b[0mSim3DR\u001b[0m \u001b[1;32mimport\u001b[0m \u001b[0mrasterize\u001b[0m\u001b[1;33m\u001b[0m\u001b[1;33m\u001b[0m\u001b[0m\n\u001b[0m\u001b[0;32m      5\u001b[0m \u001b[1;32mfrom\u001b[0m \u001b[0mutils\u001b[0m\u001b[1;33m.\u001b[0m\u001b[0mfunctions\u001b[0m \u001b[1;32mimport\u001b[0m \u001b[0mplot_image\u001b[0m\u001b[1;33m\u001b[0m\u001b[1;33m\u001b[0m\u001b[0m\n\u001b[0;32m      6\u001b[0m \u001b[1;32mfrom\u001b[0m \u001b[0mutils\u001b[0m\u001b[1;33m.\u001b[0m\u001b[0mio\u001b[0m \u001b[1;32mimport\u001b[0m \u001b[0m_load\u001b[0m\u001b[1;33m\u001b[0m\u001b[1;33m\u001b[0m\u001b[0m\n",
      "\u001b[1;31mImportError\u001b[0m: attempted relative import with no known parent package"
     ]
    }
   ],
   "source": [
    "from DDFA import *"
   ]
  },
  {
   "cell_type": "code",
   "execution_count": null,
   "id": "c55e6e0f",
   "metadata": {},
   "outputs": [],
   "source": [
    "from ..Sim3DR"
   ]
  }
 ],
 "metadata": {
  "kernelspec": {
   "display_name": "Python 3 (ipykernel)",
   "language": "python",
   "name": "python3"
  },
  "language_info": {
   "codemirror_mode": {
    "name": "ipython",
    "version": 3
   },
   "file_extension": ".py",
   "mimetype": "text/x-python",
   "name": "python",
   "nbconvert_exporter": "python",
   "pygments_lexer": "ipython3",
   "version": "3.9.7"
  }
 },
 "nbformat": 4,
 "nbformat_minor": 5
}
